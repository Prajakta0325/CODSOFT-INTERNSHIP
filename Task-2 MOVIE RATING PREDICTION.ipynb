{
 "cells": [
  {
   "cell_type": "markdown",
   "id": "442fe7f1",
   "metadata": {},
   "source": [
    "## MOVIE RATING PREDICTION"
   ]
  },
  {
   "cell_type": "markdown",
   "id": "81498454",
   "metadata": {},
   "source": [
    "### Step 1: Import all standard library"
   ]
  },
  {
   "cell_type": "code",
   "execution_count": 1,
   "id": "543fcb2c",
   "metadata": {},
   "outputs": [],
   "source": [
    "import pandas as pd\n",
    "import numpy as np\n",
    "import seaborn as sns\n",
    "import matplotlib.pyplot as plt\n",
    "import warnings\n",
    "warnings.filterwarnings('ignore')"
   ]
  },
  {
   "cell_type": "markdown",
   "id": "e6002dc0",
   "metadata": {},
   "source": [
    "### Step 2: Load the Dataset"
   ]
  },
  {
   "cell_type": "code",
   "execution_count": 2,
   "id": "a742fdec",
   "metadata": {},
   "outputs": [
    {
     "data": {
      "text/html": [
       "<div>\n",
       "<style scoped>\n",
       "    .dataframe tbody tr th:only-of-type {\n",
       "        vertical-align: middle;\n",
       "    }\n",
       "\n",
       "    .dataframe tbody tr th {\n",
       "        vertical-align: top;\n",
       "    }\n",
       "\n",
       "    .dataframe thead th {\n",
       "        text-align: right;\n",
       "    }\n",
       "</style>\n",
       "<table border=\"1\" class=\"dataframe\">\n",
       "  <thead>\n",
       "    <tr style=\"text-align: right;\">\n",
       "      <th></th>\n",
       "      <th>Name</th>\n",
       "      <th>Year</th>\n",
       "      <th>Duration</th>\n",
       "      <th>Genre</th>\n",
       "      <th>Rating</th>\n",
       "      <th>Votes</th>\n",
       "      <th>Director</th>\n",
       "      <th>Actor 1</th>\n",
       "      <th>Actor 2</th>\n",
       "      <th>Actor 3</th>\n",
       "    </tr>\n",
       "  </thead>\n",
       "  <tbody>\n",
       "    <tr>\n",
       "      <th>0</th>\n",
       "      <td></td>\n",
       "      <td>NaN</td>\n",
       "      <td>NaN</td>\n",
       "      <td>Drama</td>\n",
       "      <td>NaN</td>\n",
       "      <td>NaN</td>\n",
       "      <td>J.S. Randhawa</td>\n",
       "      <td>Manmauji</td>\n",
       "      <td>Birbal</td>\n",
       "      <td>Rajendra Bhatia</td>\n",
       "    </tr>\n",
       "    <tr>\n",
       "      <th>1</th>\n",
       "      <td>#Gadhvi (He thought he was Gandhi)</td>\n",
       "      <td>(2019)</td>\n",
       "      <td>109 min</td>\n",
       "      <td>Drama</td>\n",
       "      <td>7.0</td>\n",
       "      <td>8</td>\n",
       "      <td>Gaurav Bakshi</td>\n",
       "      <td>Rasika Dugal</td>\n",
       "      <td>Vivek Ghamande</td>\n",
       "      <td>Arvind Jangid</td>\n",
       "    </tr>\n",
       "    <tr>\n",
       "      <th>2</th>\n",
       "      <td>#Homecoming</td>\n",
       "      <td>(2021)</td>\n",
       "      <td>90 min</td>\n",
       "      <td>Drama, Musical</td>\n",
       "      <td>NaN</td>\n",
       "      <td>NaN</td>\n",
       "      <td>Soumyajit Majumdar</td>\n",
       "      <td>Sayani Gupta</td>\n",
       "      <td>Plabita Borthakur</td>\n",
       "      <td>Roy Angana</td>\n",
       "    </tr>\n",
       "    <tr>\n",
       "      <th>3</th>\n",
       "      <td>#Yaaram</td>\n",
       "      <td>(2019)</td>\n",
       "      <td>110 min</td>\n",
       "      <td>Comedy, Romance</td>\n",
       "      <td>4.4</td>\n",
       "      <td>35</td>\n",
       "      <td>Ovais Khan</td>\n",
       "      <td>Prateik</td>\n",
       "      <td>Ishita Raj</td>\n",
       "      <td>Siddhant Kapoor</td>\n",
       "    </tr>\n",
       "    <tr>\n",
       "      <th>4</th>\n",
       "      <td>...And Once Again</td>\n",
       "      <td>(2010)</td>\n",
       "      <td>105 min</td>\n",
       "      <td>Drama</td>\n",
       "      <td>NaN</td>\n",
       "      <td>NaN</td>\n",
       "      <td>Amol Palekar</td>\n",
       "      <td>Rajat Kapoor</td>\n",
       "      <td>Rituparna Sengupta</td>\n",
       "      <td>Antara Mali</td>\n",
       "    </tr>\n",
       "  </tbody>\n",
       "</table>\n",
       "</div>"
      ],
      "text/plain": [
       "                                 Name    Year Duration            Genre  \\\n",
       "0                                         NaN      NaN            Drama   \n",
       "1  #Gadhvi (He thought he was Gandhi)  (2019)  109 min            Drama   \n",
       "2                         #Homecoming  (2021)   90 min   Drama, Musical   \n",
       "3                             #Yaaram  (2019)  110 min  Comedy, Romance   \n",
       "4                   ...And Once Again  (2010)  105 min            Drama   \n",
       "\n",
       "   Rating Votes            Director       Actor 1             Actor 2  \\\n",
       "0     NaN   NaN       J.S. Randhawa      Manmauji              Birbal   \n",
       "1     7.0     8       Gaurav Bakshi  Rasika Dugal      Vivek Ghamande   \n",
       "2     NaN   NaN  Soumyajit Majumdar  Sayani Gupta   Plabita Borthakur   \n",
       "3     4.4    35          Ovais Khan       Prateik          Ishita Raj   \n",
       "4     NaN   NaN        Amol Palekar  Rajat Kapoor  Rituparna Sengupta   \n",
       "\n",
       "           Actor 3  \n",
       "0  Rajendra Bhatia  \n",
       "1    Arvind Jangid  \n",
       "2       Roy Angana  \n",
       "3  Siddhant Kapoor  \n",
       "4      Antara Mali  "
      ]
     },
     "execution_count": 2,
     "metadata": {},
     "output_type": "execute_result"
    }
   ],
   "source": [
    "data = pd.read_csv('IMDb Movies India.csv',encoding='ISO-8859-1')\n",
    "data.head()"
   ]
  },
  {
   "cell_type": "code",
   "execution_count": 3,
   "id": "519d6e33",
   "metadata": {},
   "outputs": [
    {
     "data": {
      "text/plain": [
       "(15509, 10)"
      ]
     },
     "execution_count": 3,
     "metadata": {},
     "output_type": "execute_result"
    }
   ],
   "source": [
    "data.shape"
   ]
  },
  {
   "cell_type": "code",
   "execution_count": 4,
   "id": "906fea75",
   "metadata": {},
   "outputs": [
    {
     "name": "stdout",
     "output_type": "stream",
     "text": [
      "<class 'pandas.core.frame.DataFrame'>\n",
      "RangeIndex: 15509 entries, 0 to 15508\n",
      "Data columns (total 10 columns):\n",
      " #   Column    Non-Null Count  Dtype  \n",
      "---  ------    --------------  -----  \n",
      " 0   Name      15509 non-null  object \n",
      " 1   Year      14981 non-null  object \n",
      " 2   Duration  7240 non-null   object \n",
      " 3   Genre     13632 non-null  object \n",
      " 4   Rating    7919 non-null   float64\n",
      " 5   Votes     7920 non-null   object \n",
      " 6   Director  14984 non-null  object \n",
      " 7   Actor 1   13892 non-null  object \n",
      " 8   Actor 2   13125 non-null  object \n",
      " 9   Actor 3   12365 non-null  object \n",
      "dtypes: float64(1), object(9)\n",
      "memory usage: 1.2+ MB\n"
     ]
    }
   ],
   "source": [
    "data.info()"
   ]
  },
  {
   "cell_type": "code",
   "execution_count": null,
   "id": "2511a937",
   "metadata": {},
   "outputs": [],
   "source": []
  },
  {
   "cell_type": "markdown",
   "id": "7c1bf1d7",
   "metadata": {},
   "source": [
    "### Step 3:  Data Cleaning Process"
   ]
  },
  {
   "cell_type": "code",
   "execution_count": 5,
   "id": "426a704a",
   "metadata": {},
   "outputs": [
    {
     "data": {
      "text/html": [
       "<div>\n",
       "<style scoped>\n",
       "    .dataframe tbody tr th:only-of-type {\n",
       "        vertical-align: middle;\n",
       "    }\n",
       "\n",
       "    .dataframe tbody tr th {\n",
       "        vertical-align: top;\n",
       "    }\n",
       "\n",
       "    .dataframe thead th {\n",
       "        text-align: right;\n",
       "    }\n",
       "</style>\n",
       "<table border=\"1\" class=\"dataframe\">\n",
       "  <thead>\n",
       "    <tr style=\"text-align: right;\">\n",
       "      <th></th>\n",
       "      <th>Name</th>\n",
       "      <th>Year</th>\n",
       "      <th>Duration</th>\n",
       "      <th>Genre</th>\n",
       "      <th>Rating</th>\n",
       "      <th>Votes</th>\n",
       "      <th>Director</th>\n",
       "      <th>Actor 1</th>\n",
       "    </tr>\n",
       "  </thead>\n",
       "  <tbody>\n",
       "    <tr>\n",
       "      <th>0</th>\n",
       "      <td></td>\n",
       "      <td>NaN</td>\n",
       "      <td>NaN</td>\n",
       "      <td>Drama</td>\n",
       "      <td>NaN</td>\n",
       "      <td>NaN</td>\n",
       "      <td>J.S. Randhawa</td>\n",
       "      <td>Manmauji</td>\n",
       "    </tr>\n",
       "    <tr>\n",
       "      <th>1</th>\n",
       "      <td>#Gadhvi (He thought he was Gandhi)</td>\n",
       "      <td>(2019)</td>\n",
       "      <td>109 min</td>\n",
       "      <td>Drama</td>\n",
       "      <td>7.0</td>\n",
       "      <td>8</td>\n",
       "      <td>Gaurav Bakshi</td>\n",
       "      <td>Rasika Dugal</td>\n",
       "    </tr>\n",
       "    <tr>\n",
       "      <th>2</th>\n",
       "      <td>#Homecoming</td>\n",
       "      <td>(2021)</td>\n",
       "      <td>90 min</td>\n",
       "      <td>Drama, Musical</td>\n",
       "      <td>NaN</td>\n",
       "      <td>NaN</td>\n",
       "      <td>Soumyajit Majumdar</td>\n",
       "      <td>Sayani Gupta</td>\n",
       "    </tr>\n",
       "    <tr>\n",
       "      <th>3</th>\n",
       "      <td>#Yaaram</td>\n",
       "      <td>(2019)</td>\n",
       "      <td>110 min</td>\n",
       "      <td>Comedy, Romance</td>\n",
       "      <td>4.4</td>\n",
       "      <td>35</td>\n",
       "      <td>Ovais Khan</td>\n",
       "      <td>Prateik</td>\n",
       "    </tr>\n",
       "    <tr>\n",
       "      <th>4</th>\n",
       "      <td>...And Once Again</td>\n",
       "      <td>(2010)</td>\n",
       "      <td>105 min</td>\n",
       "      <td>Drama</td>\n",
       "      <td>NaN</td>\n",
       "      <td>NaN</td>\n",
       "      <td>Amol Palekar</td>\n",
       "      <td>Rajat Kapoor</td>\n",
       "    </tr>\n",
       "  </tbody>\n",
       "</table>\n",
       "</div>"
      ],
      "text/plain": [
       "                                 Name    Year Duration            Genre  \\\n",
       "0                                         NaN      NaN            Drama   \n",
       "1  #Gadhvi (He thought he was Gandhi)  (2019)  109 min            Drama   \n",
       "2                         #Homecoming  (2021)   90 min   Drama, Musical   \n",
       "3                             #Yaaram  (2019)  110 min  Comedy, Romance   \n",
       "4                   ...And Once Again  (2010)  105 min            Drama   \n",
       "\n",
       "   Rating Votes            Director       Actor 1  \n",
       "0     NaN   NaN       J.S. Randhawa      Manmauji  \n",
       "1     7.0     8       Gaurav Bakshi  Rasika Dugal  \n",
       "2     NaN   NaN  Soumyajit Majumdar  Sayani Gupta  \n",
       "3     4.4    35          Ovais Khan       Prateik  \n",
       "4     NaN   NaN        Amol Palekar  Rajat Kapoor  "
      ]
     },
     "execution_count": 5,
     "metadata": {},
     "output_type": "execute_result"
    }
   ],
   "source": [
    "# drop unnecessary column\n",
    "data = data.drop(['Actor 2','Actor 3'], axis=1)\n",
    "data.head()"
   ]
  },
  {
   "cell_type": "code",
   "execution_count": 6,
   "id": "22071b46",
   "metadata": {},
   "outputs": [
    {
     "data": {
      "text/plain": [
       "Name           0\n",
       "Year         528\n",
       "Duration    8269\n",
       "Genre       1877\n",
       "Rating      7590\n",
       "Votes       7589\n",
       "Director     525\n",
       "Actor 1     1617\n",
       "dtype: int64"
      ]
     },
     "execution_count": 6,
     "metadata": {},
     "output_type": "execute_result"
    }
   ],
   "source": [
    "data.isnull().sum()"
   ]
  },
  {
   "cell_type": "code",
   "execution_count": 7,
   "id": "c4f561dd",
   "metadata": {},
   "outputs": [
    {
     "data": {
      "text/plain": [
       "Name         0.000000\n",
       "Year         3.404475\n",
       "Duration    53.317429\n",
       "Genre       12.102650\n",
       "Rating      48.939326\n",
       "Votes       48.932878\n",
       "Director     3.385131\n",
       "Actor 1     10.426204\n",
       "dtype: float64"
      ]
     },
     "execution_count": 7,
     "metadata": {},
     "output_type": "execute_result"
    }
   ],
   "source": [
    "data.isnull().sum()/len(data)*100"
   ]
  },
  {
   "cell_type": "code",
   "execution_count": 8,
   "id": "49ca7f9f",
   "metadata": {},
   "outputs": [
    {
     "data": {
      "text/html": [
       "<div>\n",
       "<style scoped>\n",
       "    .dataframe tbody tr th:only-of-type {\n",
       "        vertical-align: middle;\n",
       "    }\n",
       "\n",
       "    .dataframe tbody tr th {\n",
       "        vertical-align: top;\n",
       "    }\n",
       "\n",
       "    .dataframe thead th {\n",
       "        text-align: right;\n",
       "    }\n",
       "</style>\n",
       "<table border=\"1\" class=\"dataframe\">\n",
       "  <thead>\n",
       "    <tr style=\"text-align: right;\">\n",
       "      <th></th>\n",
       "      <th>Name</th>\n",
       "      <th>Year</th>\n",
       "      <th>Duration</th>\n",
       "      <th>Genre</th>\n",
       "      <th>Rating</th>\n",
       "      <th>Votes</th>\n",
       "      <th>Director</th>\n",
       "      <th>Actor 1</th>\n",
       "    </tr>\n",
       "  </thead>\n",
       "  <tbody>\n",
       "    <tr>\n",
       "      <th>0</th>\n",
       "      <td></td>\n",
       "      <td>NaN</td>\n",
       "      <td>NaN</td>\n",
       "      <td>Drama</td>\n",
       "      <td>NaN</td>\n",
       "      <td>NaN</td>\n",
       "      <td>J.S. Randhawa</td>\n",
       "      <td>Manmauji</td>\n",
       "    </tr>\n",
       "    <tr>\n",
       "      <th>1</th>\n",
       "      <td>#Gadhvi (He thought he was Gandhi)</td>\n",
       "      <td>(2019)</td>\n",
       "      <td>109 min</td>\n",
       "      <td>Drama</td>\n",
       "      <td>7.0</td>\n",
       "      <td>8</td>\n",
       "      <td>Gaurav Bakshi</td>\n",
       "      <td>Rasika Dugal</td>\n",
       "    </tr>\n",
       "    <tr>\n",
       "      <th>2</th>\n",
       "      <td>#Homecoming</td>\n",
       "      <td>(2021)</td>\n",
       "      <td>90 min</td>\n",
       "      <td>Drama, Musical</td>\n",
       "      <td>NaN</td>\n",
       "      <td>NaN</td>\n",
       "      <td>Soumyajit Majumdar</td>\n",
       "      <td>Sayani Gupta</td>\n",
       "    </tr>\n",
       "    <tr>\n",
       "      <th>3</th>\n",
       "      <td>#Yaaram</td>\n",
       "      <td>(2019)</td>\n",
       "      <td>110 min</td>\n",
       "      <td>Comedy, Romance</td>\n",
       "      <td>4.4</td>\n",
       "      <td>35</td>\n",
       "      <td>Ovais Khan</td>\n",
       "      <td>Prateik</td>\n",
       "    </tr>\n",
       "    <tr>\n",
       "      <th>4</th>\n",
       "      <td>...And Once Again</td>\n",
       "      <td>(2010)</td>\n",
       "      <td>105 min</td>\n",
       "      <td>Drama</td>\n",
       "      <td>NaN</td>\n",
       "      <td>NaN</td>\n",
       "      <td>Amol Palekar</td>\n",
       "      <td>Rajat Kapoor</td>\n",
       "    </tr>\n",
       "    <tr>\n",
       "      <th>...</th>\n",
       "      <td>...</td>\n",
       "      <td>...</td>\n",
       "      <td>...</td>\n",
       "      <td>...</td>\n",
       "      <td>...</td>\n",
       "      <td>...</td>\n",
       "      <td>...</td>\n",
       "      <td>...</td>\n",
       "    </tr>\n",
       "    <tr>\n",
       "      <th>15504</th>\n",
       "      <td>Zulm Ko Jala Doonga</td>\n",
       "      <td>(1988)</td>\n",
       "      <td>NaN</td>\n",
       "      <td>Action</td>\n",
       "      <td>4.6</td>\n",
       "      <td>11</td>\n",
       "      <td>Mahendra Shah</td>\n",
       "      <td>Naseeruddin Shah</td>\n",
       "    </tr>\n",
       "    <tr>\n",
       "      <th>15505</th>\n",
       "      <td>Zulmi</td>\n",
       "      <td>(1999)</td>\n",
       "      <td>129 min</td>\n",
       "      <td>Action, Drama</td>\n",
       "      <td>4.5</td>\n",
       "      <td>655</td>\n",
       "      <td>Kuku Kohli</td>\n",
       "      <td>Akshay Kumar</td>\n",
       "    </tr>\n",
       "    <tr>\n",
       "      <th>15506</th>\n",
       "      <td>Zulmi Raj</td>\n",
       "      <td>(2005)</td>\n",
       "      <td>NaN</td>\n",
       "      <td>Action</td>\n",
       "      <td>NaN</td>\n",
       "      <td>NaN</td>\n",
       "      <td>Kiran Thej</td>\n",
       "      <td>Sangeeta Tiwari</td>\n",
       "    </tr>\n",
       "    <tr>\n",
       "      <th>15507</th>\n",
       "      <td>Zulmi Shikari</td>\n",
       "      <td>(1988)</td>\n",
       "      <td>NaN</td>\n",
       "      <td>Action</td>\n",
       "      <td>NaN</td>\n",
       "      <td>NaN</td>\n",
       "      <td>NaN</td>\n",
       "      <td>NaN</td>\n",
       "    </tr>\n",
       "    <tr>\n",
       "      <th>15508</th>\n",
       "      <td>Zulm-O-Sitam</td>\n",
       "      <td>(1998)</td>\n",
       "      <td>130 min</td>\n",
       "      <td>Action, Drama</td>\n",
       "      <td>6.2</td>\n",
       "      <td>20</td>\n",
       "      <td>K.C. Bokadia</td>\n",
       "      <td>Dharmendra</td>\n",
       "    </tr>\n",
       "  </tbody>\n",
       "</table>\n",
       "<p>15503 rows × 8 columns</p>\n",
       "</div>"
      ],
      "text/plain": [
       "                                     Name    Year Duration            Genre  \\\n",
       "0                                             NaN      NaN            Drama   \n",
       "1      #Gadhvi (He thought he was Gandhi)  (2019)  109 min            Drama   \n",
       "2                             #Homecoming  (2021)   90 min   Drama, Musical   \n",
       "3                                 #Yaaram  (2019)  110 min  Comedy, Romance   \n",
       "4                       ...And Once Again  (2010)  105 min            Drama   \n",
       "...                                   ...     ...      ...              ...   \n",
       "15504                 Zulm Ko Jala Doonga  (1988)      NaN           Action   \n",
       "15505                               Zulmi  (1999)  129 min    Action, Drama   \n",
       "15506                           Zulmi Raj  (2005)      NaN           Action   \n",
       "15507                       Zulmi Shikari  (1988)      NaN           Action   \n",
       "15508                        Zulm-O-Sitam  (1998)  130 min    Action, Drama   \n",
       "\n",
       "       Rating Votes            Director           Actor 1  \n",
       "0         NaN   NaN       J.S. Randhawa          Manmauji  \n",
       "1         7.0     8       Gaurav Bakshi      Rasika Dugal  \n",
       "2         NaN   NaN  Soumyajit Majumdar      Sayani Gupta  \n",
       "3         4.4    35          Ovais Khan           Prateik  \n",
       "4         NaN   NaN        Amol Palekar      Rajat Kapoor  \n",
       "...       ...   ...                 ...               ...  \n",
       "15504     4.6    11       Mahendra Shah  Naseeruddin Shah  \n",
       "15505     4.5   655          Kuku Kohli      Akshay Kumar  \n",
       "15506     NaN   NaN          Kiran Thej   Sangeeta Tiwari  \n",
       "15507     NaN   NaN                 NaN               NaN  \n",
       "15508     6.2    20        K.C. Bokadia        Dharmendra  \n",
       "\n",
       "[15503 rows x 8 columns]"
      ]
     },
     "execution_count": 8,
     "metadata": {},
     "output_type": "execute_result"
    }
   ],
   "source": [
    "data.drop_duplicates()"
   ]
  },
  {
   "cell_type": "code",
   "execution_count": 9,
   "id": "7d09bf75",
   "metadata": {},
   "outputs": [
    {
     "data": {
      "text/html": [
       "<div>\n",
       "<style scoped>\n",
       "    .dataframe tbody tr th:only-of-type {\n",
       "        vertical-align: middle;\n",
       "    }\n",
       "\n",
       "    .dataframe tbody tr th {\n",
       "        vertical-align: top;\n",
       "    }\n",
       "\n",
       "    .dataframe thead th {\n",
       "        text-align: right;\n",
       "    }\n",
       "</style>\n",
       "<table border=\"1\" class=\"dataframe\">\n",
       "  <thead>\n",
       "    <tr style=\"text-align: right;\">\n",
       "      <th></th>\n",
       "      <th>Name</th>\n",
       "      <th>Year</th>\n",
       "      <th>Duration</th>\n",
       "      <th>Genre</th>\n",
       "      <th>Rating</th>\n",
       "      <th>Votes</th>\n",
       "      <th>Director</th>\n",
       "      <th>Actor 1</th>\n",
       "    </tr>\n",
       "  </thead>\n",
       "  <tbody>\n",
       "    <tr>\n",
       "      <th>0</th>\n",
       "      <td></td>\n",
       "      <td>NaN</td>\n",
       "      <td>NaN</td>\n",
       "      <td>Drama</td>\n",
       "      <td>NaN</td>\n",
       "      <td>NaN</td>\n",
       "      <td>J.S. Randhawa</td>\n",
       "      <td>Manmauji</td>\n",
       "    </tr>\n",
       "    <tr>\n",
       "      <th>1</th>\n",
       "      <td>#Gadhvi (He thought he was Gandhi)</td>\n",
       "      <td>2019</td>\n",
       "      <td>109 min</td>\n",
       "      <td>Drama</td>\n",
       "      <td>7.0</td>\n",
       "      <td>8</td>\n",
       "      <td>Gaurav Bakshi</td>\n",
       "      <td>Rasika Dugal</td>\n",
       "    </tr>\n",
       "    <tr>\n",
       "      <th>2</th>\n",
       "      <td>#Homecoming</td>\n",
       "      <td>2021</td>\n",
       "      <td>90 min</td>\n",
       "      <td>Drama, Musical</td>\n",
       "      <td>NaN</td>\n",
       "      <td>NaN</td>\n",
       "      <td>Soumyajit Majumdar</td>\n",
       "      <td>Sayani Gupta</td>\n",
       "    </tr>\n",
       "    <tr>\n",
       "      <th>3</th>\n",
       "      <td>#Yaaram</td>\n",
       "      <td>2019</td>\n",
       "      <td>110 min</td>\n",
       "      <td>Comedy, Romance</td>\n",
       "      <td>4.4</td>\n",
       "      <td>35</td>\n",
       "      <td>Ovais Khan</td>\n",
       "      <td>Prateik</td>\n",
       "    </tr>\n",
       "    <tr>\n",
       "      <th>4</th>\n",
       "      <td>...And Once Again</td>\n",
       "      <td>2010</td>\n",
       "      <td>105 min</td>\n",
       "      <td>Drama</td>\n",
       "      <td>NaN</td>\n",
       "      <td>NaN</td>\n",
       "      <td>Amol Palekar</td>\n",
       "      <td>Rajat Kapoor</td>\n",
       "    </tr>\n",
       "  </tbody>\n",
       "</table>\n",
       "</div>"
      ],
      "text/plain": [
       "                                 Name  Year Duration            Genre  Rating  \\\n",
       "0                                       NaN      NaN            Drama     NaN   \n",
       "1  #Gadhvi (He thought he was Gandhi)  2019  109 min            Drama     7.0   \n",
       "2                         #Homecoming  2021   90 min   Drama, Musical     NaN   \n",
       "3                             #Yaaram  2019  110 min  Comedy, Romance     4.4   \n",
       "4                   ...And Once Again  2010  105 min            Drama     NaN   \n",
       "\n",
       "  Votes            Director       Actor 1  \n",
       "0   NaN       J.S. Randhawa      Manmauji  \n",
       "1     8       Gaurav Bakshi  Rasika Dugal  \n",
       "2   NaN  Soumyajit Majumdar  Sayani Gupta  \n",
       "3    35          Ovais Khan       Prateik  \n",
       "4   NaN        Amol Palekar  Rajat Kapoor  "
      ]
     },
     "execution_count": 9,
     "metadata": {},
     "output_type": "execute_result"
    }
   ],
   "source": [
    "data['Year']= data['Year'].str.replace(r'[()]','',regex=True)\n",
    "data.head()"
   ]
  },
  {
   "cell_type": "code",
   "execution_count": 10,
   "id": "0218c38a",
   "metadata": {},
   "outputs": [
    {
     "data": {
      "text/html": [
       "<div>\n",
       "<style scoped>\n",
       "    .dataframe tbody tr th:only-of-type {\n",
       "        vertical-align: middle;\n",
       "    }\n",
       "\n",
       "    .dataframe tbody tr th {\n",
       "        vertical-align: top;\n",
       "    }\n",
       "\n",
       "    .dataframe thead th {\n",
       "        text-align: right;\n",
       "    }\n",
       "</style>\n",
       "<table border=\"1\" class=\"dataframe\">\n",
       "  <thead>\n",
       "    <tr style=\"text-align: right;\">\n",
       "      <th></th>\n",
       "      <th>Name</th>\n",
       "      <th>Year</th>\n",
       "      <th>Duration</th>\n",
       "      <th>Genre</th>\n",
       "      <th>Rating</th>\n",
       "      <th>Votes</th>\n",
       "      <th>Director</th>\n",
       "      <th>Actor 1</th>\n",
       "    </tr>\n",
       "  </thead>\n",
       "  <tbody>\n",
       "    <tr>\n",
       "      <th>0</th>\n",
       "      <td></td>\n",
       "      <td>NaN</td>\n",
       "      <td>NaN</td>\n",
       "      <td>Drama</td>\n",
       "      <td>NaN</td>\n",
       "      <td>NaN</td>\n",
       "      <td>J.S. Randhawa</td>\n",
       "      <td>Manmauji</td>\n",
       "    </tr>\n",
       "    <tr>\n",
       "      <th>1</th>\n",
       "      <td>#Gadhvi (He thought he was Gandhi)</td>\n",
       "      <td>2019</td>\n",
       "      <td>109</td>\n",
       "      <td>Drama</td>\n",
       "      <td>7.0</td>\n",
       "      <td>8</td>\n",
       "      <td>Gaurav Bakshi</td>\n",
       "      <td>Rasika Dugal</td>\n",
       "    </tr>\n",
       "    <tr>\n",
       "      <th>2</th>\n",
       "      <td>#Homecoming</td>\n",
       "      <td>2021</td>\n",
       "      <td>90</td>\n",
       "      <td>Drama, Musical</td>\n",
       "      <td>NaN</td>\n",
       "      <td>NaN</td>\n",
       "      <td>Soumyajit Majumdar</td>\n",
       "      <td>Sayani Gupta</td>\n",
       "    </tr>\n",
       "    <tr>\n",
       "      <th>3</th>\n",
       "      <td>#Yaaram</td>\n",
       "      <td>2019</td>\n",
       "      <td>110</td>\n",
       "      <td>Comedy, Romance</td>\n",
       "      <td>4.4</td>\n",
       "      <td>35</td>\n",
       "      <td>Ovais Khan</td>\n",
       "      <td>Prateik</td>\n",
       "    </tr>\n",
       "    <tr>\n",
       "      <th>4</th>\n",
       "      <td>...And Once Again</td>\n",
       "      <td>2010</td>\n",
       "      <td>105</td>\n",
       "      <td>Drama</td>\n",
       "      <td>NaN</td>\n",
       "      <td>NaN</td>\n",
       "      <td>Amol Palekar</td>\n",
       "      <td>Rajat Kapoor</td>\n",
       "    </tr>\n",
       "  </tbody>\n",
       "</table>\n",
       "</div>"
      ],
      "text/plain": [
       "                                 Name  Year Duration            Genre  Rating  \\\n",
       "0                                       NaN      NaN            Drama     NaN   \n",
       "1  #Gadhvi (He thought he was Gandhi)  2019     109             Drama     7.0   \n",
       "2                         #Homecoming  2021      90    Drama, Musical     NaN   \n",
       "3                             #Yaaram  2019     110   Comedy, Romance     4.4   \n",
       "4                   ...And Once Again  2010     105             Drama     NaN   \n",
       "\n",
       "  Votes            Director       Actor 1  \n",
       "0   NaN       J.S. Randhawa      Manmauji  \n",
       "1     8       Gaurav Bakshi  Rasika Dugal  \n",
       "2   NaN  Soumyajit Majumdar  Sayani Gupta  \n",
       "3    35          Ovais Khan       Prateik  \n",
       "4   NaN        Amol Palekar  Rajat Kapoor  "
      ]
     },
     "execution_count": 10,
     "metadata": {},
     "output_type": "execute_result"
    }
   ],
   "source": [
    "data['Duration']= data['Duration'].str.replace(r'min','',regex=True)\n",
    "data.head()"
   ]
  },
  {
   "cell_type": "code",
   "execution_count": 11,
   "id": "33e30bbd",
   "metadata": {},
   "outputs": [
    {
     "data": {
      "text/plain": [
       "array([nan, '8', '35', ..., '70,344', '408', '1,496'], dtype=object)"
      ]
     },
     "execution_count": 11,
     "metadata": {},
     "output_type": "execute_result"
    }
   ],
   "source": [
    "data['Votes'].unique()"
   ]
  },
  {
   "cell_type": "code",
   "execution_count": 12,
   "id": "e49c337c",
   "metadata": {},
   "outputs": [
    {
     "data": {
      "text/html": [
       "<div>\n",
       "<style scoped>\n",
       "    .dataframe tbody tr th:only-of-type {\n",
       "        vertical-align: middle;\n",
       "    }\n",
       "\n",
       "    .dataframe tbody tr th {\n",
       "        vertical-align: top;\n",
       "    }\n",
       "\n",
       "    .dataframe thead th {\n",
       "        text-align: right;\n",
       "    }\n",
       "</style>\n",
       "<table border=\"1\" class=\"dataframe\">\n",
       "  <thead>\n",
       "    <tr style=\"text-align: right;\">\n",
       "      <th></th>\n",
       "      <th>Name</th>\n",
       "      <th>Year</th>\n",
       "      <th>Duration</th>\n",
       "      <th>Genre</th>\n",
       "      <th>Rating</th>\n",
       "      <th>Votes</th>\n",
       "      <th>Director</th>\n",
       "      <th>Actor 1</th>\n",
       "    </tr>\n",
       "  </thead>\n",
       "  <tbody>\n",
       "    <tr>\n",
       "      <th>0</th>\n",
       "      <td></td>\n",
       "      <td>NaN</td>\n",
       "      <td>NaN</td>\n",
       "      <td>Drama</td>\n",
       "      <td>NaN</td>\n",
       "      <td>NaN</td>\n",
       "      <td>J.S. Randhawa</td>\n",
       "      <td>Manmauji</td>\n",
       "    </tr>\n",
       "    <tr>\n",
       "      <th>1</th>\n",
       "      <td>#Gadhvi (He thought he was Gandhi)</td>\n",
       "      <td>2019</td>\n",
       "      <td>109</td>\n",
       "      <td>Drama</td>\n",
       "      <td>7.0</td>\n",
       "      <td>8</td>\n",
       "      <td>Gaurav Bakshi</td>\n",
       "      <td>Rasika Dugal</td>\n",
       "    </tr>\n",
       "    <tr>\n",
       "      <th>2</th>\n",
       "      <td>#Homecoming</td>\n",
       "      <td>2021</td>\n",
       "      <td>90</td>\n",
       "      <td>Drama, Musical</td>\n",
       "      <td>NaN</td>\n",
       "      <td>NaN</td>\n",
       "      <td>Soumyajit Majumdar</td>\n",
       "      <td>Sayani Gupta</td>\n",
       "    </tr>\n",
       "    <tr>\n",
       "      <th>3</th>\n",
       "      <td>#Yaaram</td>\n",
       "      <td>2019</td>\n",
       "      <td>110</td>\n",
       "      <td>Comedy, Romance</td>\n",
       "      <td>4.4</td>\n",
       "      <td>35</td>\n",
       "      <td>Ovais Khan</td>\n",
       "      <td>Prateik</td>\n",
       "    </tr>\n",
       "    <tr>\n",
       "      <th>4</th>\n",
       "      <td>...And Once Again</td>\n",
       "      <td>2010</td>\n",
       "      <td>105</td>\n",
       "      <td>Drama</td>\n",
       "      <td>NaN</td>\n",
       "      <td>NaN</td>\n",
       "      <td>Amol Palekar</td>\n",
       "      <td>Rajat Kapoor</td>\n",
       "    </tr>\n",
       "  </tbody>\n",
       "</table>\n",
       "</div>"
      ],
      "text/plain": [
       "                                 Name  Year Duration            Genre  Rating  \\\n",
       "0                                       NaN      NaN            Drama     NaN   \n",
       "1  #Gadhvi (He thought he was Gandhi)  2019     109             Drama     7.0   \n",
       "2                         #Homecoming  2021      90    Drama, Musical     NaN   \n",
       "3                             #Yaaram  2019     110   Comedy, Romance     4.4   \n",
       "4                   ...And Once Again  2010     105             Drama     NaN   \n",
       "\n",
       "  Votes            Director       Actor 1  \n",
       "0   NaN       J.S. Randhawa      Manmauji  \n",
       "1     8       Gaurav Bakshi  Rasika Dugal  \n",
       "2   NaN  Soumyajit Majumdar  Sayani Gupta  \n",
       "3    35          Ovais Khan       Prateik  \n",
       "4   NaN        Amol Palekar  Rajat Kapoor  "
      ]
     },
     "execution_count": 12,
     "metadata": {},
     "output_type": "execute_result"
    }
   ],
   "source": [
    "data['Votes']= data['Votes'].str.replace(r',','',regex=True)\n",
    "data.head()"
   ]
  },
  {
   "cell_type": "code",
   "execution_count": 13,
   "id": "946c5520",
   "metadata": {},
   "outputs": [
    {
     "data": {
      "text/plain": [
       "Drama                         2780\n",
       "Action                        1289\n",
       "Thriller                       779\n",
       "Romance                        708\n",
       "Drama, Romance                 524\n",
       "                              ... \n",
       "Action, Musical, War             1\n",
       "Horror, Crime, Thriller          1\n",
       "Animation, Comedy                1\n",
       "Romance, Action, Crime           1\n",
       "Adventure, Fantasy, Sci-Fi       1\n",
       "Name: Genre, Length: 485, dtype: int64"
      ]
     },
     "execution_count": 13,
     "metadata": {},
     "output_type": "execute_result"
    }
   ],
   "source": [
    "data['Genre'].value_counts()"
   ]
  },
  {
   "cell_type": "code",
   "execution_count": 14,
   "id": "58be0ee6",
   "metadata": {},
   "outputs": [
    {
     "data": {
      "text/plain": [
       "Name           0\n",
       "Year         528\n",
       "Duration    8269\n",
       "Genre          0\n",
       "Rating      7590\n",
       "Votes       7589\n",
       "Director     525\n",
       "Actor 1     1617\n",
       "dtype: int64"
      ]
     },
     "execution_count": 14,
     "metadata": {},
     "output_type": "execute_result"
    }
   ],
   "source": [
    "# fillna with Drama in Genre column\n",
    "\n",
    "data['Genre']= data['Genre'].fillna('Drama')\n",
    "data.isnull().sum()"
   ]
  },
  {
   "cell_type": "code",
   "execution_count": 15,
   "id": "d77fe292",
   "metadata": {},
   "outputs": [
    {
     "data": {
      "text/plain": [
       "Name           0\n",
       "Year           0\n",
       "Duration    8269\n",
       "Genre          0\n",
       "Rating      7590\n",
       "Votes       7589\n",
       "Director     525\n",
       "Actor 1     1617\n",
       "dtype: int64"
      ]
     },
     "execution_count": 15,
     "metadata": {},
     "output_type": "execute_result"
    }
   ],
   "source": [
    "data['Year']= data['Year'].fillna(data['Year'].mode()[0])\n",
    "data.isnull().sum()"
   ]
  },
  {
   "cell_type": "code",
   "execution_count": 16,
   "id": "803b22e5",
   "metadata": {},
   "outputs": [],
   "source": [
    "data['Duration']= data['Duration'].fillna(data['Duration'].mode()[0])\n",
    "data['Rating']= data['Rating'].fillna(data['Rating'].mean())\n",
    "data['Votes']= data['Votes'].fillna(data['Votes'].mode()[0])\n",
    "data['Director']= data['Director'].fillna(data['Director'].mode()[0])\n",
    "data['Actor 1']= data['Actor 1'].fillna(data['Actor 1'].mode()[0])"
   ]
  },
  {
   "cell_type": "code",
   "execution_count": 17,
   "id": "1cf2e684",
   "metadata": {},
   "outputs": [
    {
     "data": {
      "text/plain": [
       "Name        0\n",
       "Year        0\n",
       "Duration    0\n",
       "Genre       0\n",
       "Rating      0\n",
       "Votes       0\n",
       "Director    0\n",
       "Actor 1     0\n",
       "dtype: int64"
      ]
     },
     "execution_count": 17,
     "metadata": {},
     "output_type": "execute_result"
    }
   ],
   "source": [
    "data.isnull().sum()"
   ]
  },
  {
   "cell_type": "code",
   "execution_count": 18,
   "id": "9d79b981",
   "metadata": {},
   "outputs": [
    {
     "data": {
      "text/plain": [
       "Name         object\n",
       "Year         object\n",
       "Duration     object\n",
       "Genre        object\n",
       "Rating      float64\n",
       "Votes        object\n",
       "Director     object\n",
       "Actor 1      object\n",
       "dtype: object"
      ]
     },
     "execution_count": 18,
     "metadata": {},
     "output_type": "execute_result"
    }
   ],
   "source": [
    "data.dtypes"
   ]
  },
  {
   "cell_type": "code",
   "execution_count": 19,
   "id": "177b44cf",
   "metadata": {},
   "outputs": [],
   "source": [
    "data['Duration']= data['Duration'].astype(float)"
   ]
  },
  {
   "cell_type": "code",
   "execution_count": 20,
   "id": "aa54261a",
   "metadata": {},
   "outputs": [],
   "source": [
    "data['Year']= data['Year'].astype(int)"
   ]
  },
  {
   "cell_type": "code",
   "execution_count": 21,
   "id": "c9eb840d",
   "metadata": {},
   "outputs": [],
   "source": [
    "data['Votes']= data['Votes'].str.replace(r'M','',regex=True)"
   ]
  },
  {
   "cell_type": "code",
   "execution_count": 22,
   "id": "af7ef999",
   "metadata": {},
   "outputs": [],
   "source": [
    "data['Votes']= data['Votes'].str.replace(r'$','',regex=True)"
   ]
  },
  {
   "cell_type": "code",
   "execution_count": 23,
   "id": "375415ed",
   "metadata": {},
   "outputs": [],
   "source": [
    "data['Votes']= data['Votes'].astype(str).astype(float)"
   ]
  },
  {
   "cell_type": "code",
   "execution_count": 24,
   "id": "3c513637",
   "metadata": {},
   "outputs": [
    {
     "data": {
      "text/plain": [
       "Name         object\n",
       "Year          int32\n",
       "Duration    float64\n",
       "Genre        object\n",
       "Rating      float64\n",
       "Votes       float64\n",
       "Director     object\n",
       "Actor 1      object\n",
       "dtype: object"
      ]
     },
     "execution_count": 24,
     "metadata": {},
     "output_type": "execute_result"
    }
   ],
   "source": [
    "data.dtypes"
   ]
  },
  {
   "cell_type": "code",
   "execution_count": 25,
   "id": "485369cf",
   "metadata": {},
   "outputs": [
    {
     "data": {
      "image/png": "[encoded data removed]",
      "text/plain": [
       "<Figure size 640x480 with 1 Axes>"
      ]
     },
     "metadata": {},
     "output_type": "display_data"
    }
   ],
   "source": [
    "sns.distplot(x=data['Rating'])\n",
    "plt.show()"
   ]
  },
  {
   "cell_type": "code",
   "execution_count": 26,
   "id": "79fb95c8",
   "metadata": {},
   "outputs": [
    {
     "data": {
      "image/png": "[encoded data removed]",
      "text/plain": [
       "<Figure size 1500x800 with 1 Axes>"
      ]
     },
     "metadata": {},
     "output_type": "display_data"
    }
   ],
   "source": [
    "plt.figure(figsize=(15,8))\n",
    "sns.countplot(x=data['Year'])\n",
    "plt.xticks(rotation='vertical', fontsize=8)\n",
    "plt.show()"
   ]
  },
  {
   "cell_type": "code",
   "execution_count": 27,
   "id": "978d58ff",
   "metadata": {},
   "outputs": [
    {
     "data": {
      "text/plain": [
       "<AxesSubplot:>"
      ]
     },
     "execution_count": 27,
     "metadata": {},
     "output_type": "execute_result"
    },
    {
     "data": {
      "image/png": "[encoded data removed]",
      "text/plain": [
       "<Figure size 640x480 with 1 Axes>"
      ]
     },
     "metadata": {},
     "output_type": "display_data"
    }
   ],
   "source": [
    "data['Rating'].plot(kind='box')"
   ]
  },
  {
   "cell_type": "code",
   "execution_count": 28,
   "id": "a1b60457",
   "metadata": {},
   "outputs": [
    {
     "data": {
      "text/html": [
       "<div>\n",
       "<style scoped>\n",
       "    .dataframe tbody tr th:only-of-type {\n",
       "        vertical-align: middle;\n",
       "    }\n",
       "\n",
       "    .dataframe tbody tr th {\n",
       "        vertical-align: top;\n",
       "    }\n",
       "\n",
       "    .dataframe thead th {\n",
       "        text-align: right;\n",
       "    }\n",
       "</style>\n",
       "<table border=\"1\" class=\"dataframe\">\n",
       "  <thead>\n",
       "    <tr style=\"text-align: right;\">\n",
       "      <th></th>\n",
       "      <th>Name</th>\n",
       "      <th>Year</th>\n",
       "      <th>Duration</th>\n",
       "      <th>Genre</th>\n",
       "      <th>Rating</th>\n",
       "      <th>Votes</th>\n",
       "      <th>Director</th>\n",
       "      <th>Actor 1</th>\n",
       "    </tr>\n",
       "  </thead>\n",
       "  <tbody>\n",
       "    <tr>\n",
       "      <th>0</th>\n",
       "      <td></td>\n",
       "      <td>2019</td>\n",
       "      <td>120.0</td>\n",
       "      <td>Drama</td>\n",
       "      <td>5.841621</td>\n",
       "      <td>8.0</td>\n",
       "      <td>J.S. Randhawa</td>\n",
       "      <td>Manmauji</td>\n",
       "    </tr>\n",
       "    <tr>\n",
       "      <th>1</th>\n",
       "      <td>#Gadhvi (He thought he was Gandhi)</td>\n",
       "      <td>2019</td>\n",
       "      <td>109.0</td>\n",
       "      <td>Drama</td>\n",
       "      <td>7.000000</td>\n",
       "      <td>8.0</td>\n",
       "      <td>Gaurav Bakshi</td>\n",
       "      <td>Rasika Dugal</td>\n",
       "    </tr>\n",
       "    <tr>\n",
       "      <th>2</th>\n",
       "      <td>#Homecoming</td>\n",
       "      <td>2021</td>\n",
       "      <td>90.0</td>\n",
       "      <td>Drama, Musical</td>\n",
       "      <td>5.841621</td>\n",
       "      <td>8.0</td>\n",
       "      <td>Soumyajit Majumdar</td>\n",
       "      <td>Sayani Gupta</td>\n",
       "    </tr>\n",
       "    <tr>\n",
       "      <th>3</th>\n",
       "      <td>#Yaaram</td>\n",
       "      <td>2019</td>\n",
       "      <td>110.0</td>\n",
       "      <td>Comedy, Romance</td>\n",
       "      <td>4.400000</td>\n",
       "      <td>35.0</td>\n",
       "      <td>Ovais Khan</td>\n",
       "      <td>Prateik</td>\n",
       "    </tr>\n",
       "    <tr>\n",
       "      <th>4</th>\n",
       "      <td>...And Once Again</td>\n",
       "      <td>2010</td>\n",
       "      <td>105.0</td>\n",
       "      <td>Drama</td>\n",
       "      <td>5.841621</td>\n",
       "      <td>8.0</td>\n",
       "      <td>Amol Palekar</td>\n",
       "      <td>Rajat Kapoor</td>\n",
       "    </tr>\n",
       "  </tbody>\n",
       "</table>\n",
       "</div>"
      ],
      "text/plain": [
       "                                 Name  Year  Duration            Genre  \\\n",
       "0                                      2019     120.0            Drama   \n",
       "1  #Gadhvi (He thought he was Gandhi)  2019     109.0            Drama   \n",
       "2                         #Homecoming  2021      90.0   Drama, Musical   \n",
       "3                             #Yaaram  2019     110.0  Comedy, Romance   \n",
       "4                   ...And Once Again  2010     105.0            Drama   \n",
       "\n",
       "     Rating  Votes            Director       Actor 1  \n",
       "0  5.841621    8.0       J.S. Randhawa      Manmauji  \n",
       "1  7.000000    8.0       Gaurav Bakshi  Rasika Dugal  \n",
       "2  5.841621    8.0  Soumyajit Majumdar  Sayani Gupta  \n",
       "3  4.400000   35.0          Ovais Khan       Prateik  \n",
       "4  5.841621    8.0        Amol Palekar  Rajat Kapoor  "
      ]
     },
     "execution_count": 28,
     "metadata": {},
     "output_type": "execute_result"
    }
   ],
   "source": [
    "data.head()"
   ]
  },
  {
   "cell_type": "code",
   "execution_count": 29,
   "id": "aa5506be",
   "metadata": {},
   "outputs": [
    {
     "data": {
      "text/html": [
       "<div>\n",
       "<style scoped>\n",
       "    .dataframe tbody tr th:only-of-type {\n",
       "        vertical-align: middle;\n",
       "    }\n",
       "\n",
       "    .dataframe tbody tr th {\n",
       "        vertical-align: top;\n",
       "    }\n",
       "\n",
       "    .dataframe thead th {\n",
       "        text-align: right;\n",
       "    }\n",
       "</style>\n",
       "<table border=\"1\" class=\"dataframe\">\n",
       "  <thead>\n",
       "    <tr style=\"text-align: right;\">\n",
       "      <th></th>\n",
       "      <th>Year</th>\n",
       "      <th>Duration</th>\n",
       "      <th>Genre</th>\n",
       "      <th>Rating</th>\n",
       "      <th>Votes</th>\n",
       "      <th>Director</th>\n",
       "      <th>Actor 1</th>\n",
       "    </tr>\n",
       "  </thead>\n",
       "  <tbody>\n",
       "    <tr>\n",
       "      <th>0</th>\n",
       "      <td>2019</td>\n",
       "      <td>120.0</td>\n",
       "      <td>Drama</td>\n",
       "      <td>5.841621</td>\n",
       "      <td>8.0</td>\n",
       "      <td>J.S. Randhawa</td>\n",
       "      <td>Manmauji</td>\n",
       "    </tr>\n",
       "    <tr>\n",
       "      <th>1</th>\n",
       "      <td>2019</td>\n",
       "      <td>109.0</td>\n",
       "      <td>Drama</td>\n",
       "      <td>7.000000</td>\n",
       "      <td>8.0</td>\n",
       "      <td>Gaurav Bakshi</td>\n",
       "      <td>Rasika Dugal</td>\n",
       "    </tr>\n",
       "    <tr>\n",
       "      <th>2</th>\n",
       "      <td>2021</td>\n",
       "      <td>90.0</td>\n",
       "      <td>Drama, Musical</td>\n",
       "      <td>5.841621</td>\n",
       "      <td>8.0</td>\n",
       "      <td>Soumyajit Majumdar</td>\n",
       "      <td>Sayani Gupta</td>\n",
       "    </tr>\n",
       "    <tr>\n",
       "      <th>3</th>\n",
       "      <td>2019</td>\n",
       "      <td>110.0</td>\n",
       "      <td>Comedy, Romance</td>\n",
       "      <td>4.400000</td>\n",
       "      <td>35.0</td>\n",
       "      <td>Ovais Khan</td>\n",
       "      <td>Prateik</td>\n",
       "    </tr>\n",
       "    <tr>\n",
       "      <th>4</th>\n",
       "      <td>2010</td>\n",
       "      <td>105.0</td>\n",
       "      <td>Drama</td>\n",
       "      <td>5.841621</td>\n",
       "      <td>8.0</td>\n",
       "      <td>Amol Palekar</td>\n",
       "      <td>Rajat Kapoor</td>\n",
       "    </tr>\n",
       "  </tbody>\n",
       "</table>\n",
       "</div>"
      ],
      "text/plain": [
       "   Year  Duration            Genre    Rating  Votes            Director  \\\n",
       "0  2019     120.0            Drama  5.841621    8.0       J.S. Randhawa   \n",
       "1  2019     109.0            Drama  7.000000    8.0       Gaurav Bakshi   \n",
       "2  2021      90.0   Drama, Musical  5.841621    8.0  Soumyajit Majumdar   \n",
       "3  2019     110.0  Comedy, Romance  4.400000   35.0          Ovais Khan   \n",
       "4  2010     105.0            Drama  5.841621    8.0        Amol Palekar   \n",
       "\n",
       "        Actor 1  \n",
       "0      Manmauji  \n",
       "1  Rasika Dugal  \n",
       "2  Sayani Gupta  \n",
       "3       Prateik  \n",
       "4  Rajat Kapoor  "
      ]
     },
     "execution_count": 29,
     "metadata": {},
     "output_type": "execute_result"
    }
   ],
   "source": [
    "data= data.drop('Name',axis=1)\n",
    "data.head()"
   ]
  },
  {
   "cell_type": "markdown",
   "id": "3a6fc577",
   "metadata": {},
   "source": []
  },
  {
   "cell_type": "code",
   "execution_count": 30,
   "id": "093f336f",
   "metadata": {},
   "outputs": [
    {
     "data": {
      "text/plain": [
       "array(['J.S. Randhawa', 'Gaurav Bakshi', 'Soumyajit Majumdar', ...,\n",
       "       'Mozez Singh', 'Ved Prakash', 'Kiran Thej'], dtype=object)"
      ]
     },
     "execution_count": 30,
     "metadata": {},
     "output_type": "execute_result"
    }
   ],
   "source": [
    "data['Director'].unique()"
   ]
  },
  {
   "cell_type": "code",
   "execution_count": 31,
   "id": "4877b6ee",
   "metadata": {},
   "outputs": [
    {
     "data": {
      "text/plain": [
       "array(['Manmauji', 'Rasika Dugal', 'Sayani Gupta', ..., 'Meghan Jadhav',\n",
       "       'Roohi Berde', 'Sangeeta Tiwari'], dtype=object)"
      ]
     },
     "execution_count": 31,
     "metadata": {},
     "output_type": "execute_result"
    }
   ],
   "source": [
    "data['Actor 1'].unique()"
   ]
  },
  {
   "cell_type": "code",
   "execution_count": 32,
   "id": "7fd108f7",
   "metadata": {},
   "outputs": [
    {
     "data": {
      "text/plain": [
       "<AxesSubplot:>"
      ]
     },
     "execution_count": 32,
     "metadata": {},
     "output_type": "execute_result"
    },
    {
     "data": {
      "image/png": "[encoded data removed]",
      "text/plain": [
       "<Figure size 640x480 with 2 Axes>"
      ]
     },
     "metadata": {},
     "output_type": "display_data"
    }
   ],
   "source": [
    "sns.heatmap(data.corr(),annot=True)"
   ]
  },
  {
   "cell_type": "markdown",
   "id": "288617d4",
   "metadata": {},
   "source": [
    "### Apply Feature Scaling and Feature Encoding"
   ]
  },
  {
   "cell_type": "code",
   "execution_count": 33,
   "id": "35f615f5",
   "metadata": {},
   "outputs": [
    {
     "data": {
      "text/plain": [
       "MinMaxScaler()"
      ]
     },
     "execution_count": 33,
     "metadata": {},
     "output_type": "execute_result"
    }
   ],
   "source": [
    "from sklearn.preprocessing import MinMaxScaler\n",
    "mms = MinMaxScaler()\n",
    "mms"
   ]
  },
  {
   "cell_type": "code",
   "execution_count": 34,
   "id": "cc7285e0",
   "metadata": {},
   "outputs": [
    {
     "data": {
      "text/html": [
       "<div>\n",
       "<style scoped>\n",
       "    .dataframe tbody tr th:only-of-type {\n",
       "        vertical-align: middle;\n",
       "    }\n",
       "\n",
       "    .dataframe tbody tr th {\n",
       "        vertical-align: top;\n",
       "    }\n",
       "\n",
       "    .dataframe thead th {\n",
       "        text-align: right;\n",
       "    }\n",
       "</style>\n",
       "<table border=\"1\" class=\"dataframe\">\n",
       "  <thead>\n",
       "    <tr style=\"text-align: right;\">\n",
       "      <th></th>\n",
       "      <th>Year</th>\n",
       "      <th>Duration</th>\n",
       "      <th>Genre</th>\n",
       "      <th>Rating</th>\n",
       "      <th>Votes</th>\n",
       "      <th>Director</th>\n",
       "      <th>Actor 1</th>\n",
       "    </tr>\n",
       "  </thead>\n",
       "  <tbody>\n",
       "    <tr>\n",
       "      <th>0</th>\n",
       "      <td>2019</td>\n",
       "      <td>0.369906</td>\n",
       "      <td>Drama</td>\n",
       "      <td>0.532766</td>\n",
       "      <td>0.000005</td>\n",
       "      <td>J.S. Randhawa</td>\n",
       "      <td>Manmauji</td>\n",
       "    </tr>\n",
       "    <tr>\n",
       "      <th>1</th>\n",
       "      <td>2019</td>\n",
       "      <td>0.335423</td>\n",
       "      <td>Drama</td>\n",
       "      <td>0.662921</td>\n",
       "      <td>0.000005</td>\n",
       "      <td>Gaurav Bakshi</td>\n",
       "      <td>Rasika Dugal</td>\n",
       "    </tr>\n",
       "    <tr>\n",
       "      <th>2</th>\n",
       "      <td>2021</td>\n",
       "      <td>0.275862</td>\n",
       "      <td>Drama, Musical</td>\n",
       "      <td>0.532766</td>\n",
       "      <td>0.000005</td>\n",
       "      <td>Soumyajit Majumdar</td>\n",
       "      <td>Sayani Gupta</td>\n",
       "    </tr>\n",
       "    <tr>\n",
       "      <th>3</th>\n",
       "      <td>2019</td>\n",
       "      <td>0.338558</td>\n",
       "      <td>Comedy, Romance</td>\n",
       "      <td>0.370787</td>\n",
       "      <td>0.000051</td>\n",
       "      <td>Ovais Khan</td>\n",
       "      <td>Prateik</td>\n",
       "    </tr>\n",
       "    <tr>\n",
       "      <th>4</th>\n",
       "      <td>2010</td>\n",
       "      <td>0.322884</td>\n",
       "      <td>Drama</td>\n",
       "      <td>0.532766</td>\n",
       "      <td>0.000005</td>\n",
       "      <td>Amol Palekar</td>\n",
       "      <td>Rajat Kapoor</td>\n",
       "    </tr>\n",
       "  </tbody>\n",
       "</table>\n",
       "</div>"
      ],
      "text/plain": [
       "   Year  Duration            Genre    Rating     Votes            Director  \\\n",
       "0  2019  0.369906            Drama  0.532766  0.000005       J.S. Randhawa   \n",
       "1  2019  0.335423            Drama  0.662921  0.000005       Gaurav Bakshi   \n",
       "2  2021  0.275862   Drama, Musical  0.532766  0.000005  Soumyajit Majumdar   \n",
       "3  2019  0.338558  Comedy, Romance  0.370787  0.000051          Ovais Khan   \n",
       "4  2010  0.322884            Drama  0.532766  0.000005        Amol Palekar   \n",
       "\n",
       "        Actor 1  \n",
       "0      Manmauji  \n",
       "1  Rasika Dugal  \n",
       "2  Sayani Gupta  \n",
       "3       Prateik  \n",
       "4  Rajat Kapoor  "
      ]
     },
     "execution_count": 34,
     "metadata": {},
     "output_type": "execute_result"
    }
   ],
   "source": [
    "data[['Duration','Rating','Votes']]= mms.fit_transform(data[['Duration','Rating','Votes']])\n",
    "data.head()"
   ]
  },
  {
   "cell_type": "code",
   "execution_count": 35,
   "id": "ffb60b4f",
   "metadata": {},
   "outputs": [
    {
     "data": {
      "text/plain": [
       "LabelEncoder()"
      ]
     },
     "execution_count": 35,
     "metadata": {},
     "output_type": "execute_result"
    }
   ],
   "source": [
    "from sklearn.preprocessing import LabelEncoder\n",
    "le = LabelEncoder()\n",
    "le"
   ]
  },
  {
   "cell_type": "code",
   "execution_count": 36,
   "id": "30296c2a",
   "metadata": {},
   "outputs": [],
   "source": [
    "data['Director'] = le.fit_transform(data['Director'])"
   ]
  },
  {
   "cell_type": "code",
   "execution_count": 37,
   "id": "42507570",
   "metadata": {},
   "outputs": [],
   "source": [
    "data['Actor 1'] = le.fit_transform(data['Actor 1'])"
   ]
  },
  {
   "cell_type": "code",
   "execution_count": 38,
   "id": "7729c220",
   "metadata": {},
   "outputs": [
    {
     "data": {
      "text/html": [
       "<div>\n",
       "<style scoped>\n",
       "    .dataframe tbody tr th:only-of-type {\n",
       "        vertical-align: middle;\n",
       "    }\n",
       "\n",
       "    .dataframe tbody tr th {\n",
       "        vertical-align: top;\n",
       "    }\n",
       "\n",
       "    .dataframe thead th {\n",
       "        text-align: right;\n",
       "    }\n",
       "</style>\n",
       "<table border=\"1\" class=\"dataframe\">\n",
       "  <thead>\n",
       "    <tr style=\"text-align: right;\">\n",
       "      <th></th>\n",
       "      <th>Year</th>\n",
       "      <th>Duration</th>\n",
       "      <th>Genre</th>\n",
       "      <th>Rating</th>\n",
       "      <th>Votes</th>\n",
       "      <th>Director</th>\n",
       "      <th>Actor 1</th>\n",
       "    </tr>\n",
       "  </thead>\n",
       "  <tbody>\n",
       "    <tr>\n",
       "      <th>0</th>\n",
       "      <td>2019</td>\n",
       "      <td>0.369906</td>\n",
       "      <td>299</td>\n",
       "      <td>0.532766</td>\n",
       "      <td>0.000005</td>\n",
       "      <td>1926</td>\n",
       "      <td>2250</td>\n",
       "    </tr>\n",
       "    <tr>\n",
       "      <th>1</th>\n",
       "      <td>2019</td>\n",
       "      <td>0.335423</td>\n",
       "      <td>299</td>\n",
       "      <td>0.662921</td>\n",
       "      <td>0.000005</td>\n",
       "      <td>1548</td>\n",
       "      <td>3280</td>\n",
       "    </tr>\n",
       "    <tr>\n",
       "      <th>2</th>\n",
       "      <td>2021</td>\n",
       "      <td>0.275862</td>\n",
       "      <td>351</td>\n",
       "      <td>0.532766</td>\n",
       "      <td>0.000005</td>\n",
       "      <td>5123</td>\n",
       "      <td>3713</td>\n",
       "    </tr>\n",
       "    <tr>\n",
       "      <th>3</th>\n",
       "      <td>2019</td>\n",
       "      <td>0.338558</td>\n",
       "      <td>228</td>\n",
       "      <td>0.370787</td>\n",
       "      <td>0.000051</td>\n",
       "      <td>3319</td>\n",
       "      <td>2917</td>\n",
       "    </tr>\n",
       "    <tr>\n",
       "      <th>4</th>\n",
       "      <td>2010</td>\n",
       "      <td>0.322884</td>\n",
       "      <td>299</td>\n",
       "      <td>0.532766</td>\n",
       "      <td>0.000005</td>\n",
       "      <td>385</td>\n",
       "      <td>3112</td>\n",
       "    </tr>\n",
       "  </tbody>\n",
       "</table>\n",
       "</div>"
      ],
      "text/plain": [
       "   Year  Duration  Genre    Rating     Votes  Director  Actor 1\n",
       "0  2019  0.369906    299  0.532766  0.000005      1926     2250\n",
       "1  2019  0.335423    299  0.662921  0.000005      1548     3280\n",
       "2  2021  0.275862    351  0.532766  0.000005      5123     3713\n",
       "3  2019  0.338558    228  0.370787  0.000051      3319     2917\n",
       "4  2010  0.322884    299  0.532766  0.000005       385     3112"
      ]
     },
     "execution_count": 38,
     "metadata": {},
     "output_type": "execute_result"
    }
   ],
   "source": [
    "data['Genre'] = le.fit_transform(data['Genre'])\n",
    "data.head()"
   ]
  },
  {
   "cell_type": "markdown",
   "id": "66542936",
   "metadata": {},
   "source": [
    "## Apply ML algorithm on Dataset"
   ]
  },
  {
   "cell_type": "markdown",
   "id": "b9c65ce2",
   "metadata": {},
   "source": [
    "#### separate x and y"
   ]
  },
  {
   "cell_type": "markdown",
   "id": "45ff7896",
   "metadata": {},
   "source": [
    "- Here Rating is target variable so we apply regression algorithm"
   ]
  },
  {
   "cell_type": "code",
   "execution_count": 39,
   "id": "dad1bea4",
   "metadata": {},
   "outputs": [],
   "source": [
    "x= data.drop('Rating',axis=1)\n",
    "y= data['Rating']"
   ]
  },
  {
   "cell_type": "markdown",
   "id": "f2183656",
   "metadata": {},
   "source": [
    "#### split the dataset into train and test set"
   ]
  },
  {
   "cell_type": "code",
   "execution_count": 40,
   "id": "a7116cd8",
   "metadata": {},
   "outputs": [],
   "source": [
    "from sklearn.model_selection import train_test_split\n",
    "x_train,x_test,y_train,y_test = train_test_split(x,y,test_size=0.2,random_state=0)"
   ]
  },
  {
   "cell_type": "code",
   "execution_count": 64,
   "id": "cc2f17af",
   "metadata": {},
   "outputs": [],
   "source": [
    "from sklearn.linear_model import LinearRegression\n",
    "lr = LinearRegression()"
   ]
  },
  {
   "cell_type": "code",
   "execution_count": 65,
   "id": "0bbdae5c",
   "metadata": {},
   "outputs": [
    {
     "data": {
      "text/plain": [
       "LinearRegression()"
      ]
     },
     "execution_count": 65,
     "metadata": {},
     "output_type": "execute_result"
    }
   ],
   "source": [
    "lr.fit(x_train,y_train)"
   ]
  },
  {
   "cell_type": "markdown",
   "id": "19646d92",
   "metadata": {},
   "source": [
    "#### Perform prediction"
   ]
  },
  {
   "cell_type": "code",
   "execution_count": 66,
   "id": "40b89059",
   "metadata": {},
   "outputs": [
    {
     "data": {
      "text/plain": [
       "array([0.52611403, 0.50544614, 0.52983171, ..., 0.53078373, 0.5328998 ,\n",
       "       0.54853759])"
      ]
     },
     "execution_count": 66,
     "metadata": {},
     "output_type": "execute_result"
    }
   ],
   "source": [
    "y_pred = lr.predict(x_test)\n",
    "y_pred"
   ]
  },
  {
   "cell_type": "markdown",
   "id": "cb386dc9",
   "metadata": {},
   "source": [
    "#### Evaluations"
   ]
  },
  {
   "cell_type": "code",
   "execution_count": 67,
   "id": "2e9677c0",
   "metadata": {},
   "outputs": [
    {
     "data": {
      "text/plain": [
       "0.04339333837900183"
      ]
     },
     "execution_count": 67,
     "metadata": {},
     "output_type": "execute_result"
    }
   ],
   "source": [
    "from sklearn.metrics import r2_score\n",
    "accuracy = r2_score(y_test,y_pred)\n",
    "accuracy"
   ]
  },
  {
   "cell_type": "code",
   "execution_count": 68,
   "id": "4f804198",
   "metadata": {},
   "outputs": [
    {
     "data": {
      "text/plain": [
       "4.339333837900183"
      ]
     },
     "execution_count": 68,
     "metadata": {},
     "output_type": "execute_result"
    }
   ],
   "source": [
    "0.04339333837900183*100"
   ]
  },
  {
   "cell_type": "code",
   "execution_count": 70,
   "id": "510742a7",
   "metadata": {},
   "outputs": [
    {
     "data": {
      "text/plain": [
       "array([0.04482626, 0.04623459, 0.00313494, 0.03210444, 0.02974954])"
      ]
     },
     "execution_count": 70,
     "metadata": {},
     "output_type": "execute_result"
    }
   ],
   "source": [
    "from sklearn.model_selection import cross_val_score\n",
    "cross_val_score(lr,x,y,cv=5)"
   ]
  },
  {
   "cell_type": "markdown",
   "id": "61efff89",
   "metadata": {},
   "source": [
    "- highest accuracy is 4.48%"
   ]
  },
  {
   "cell_type": "code",
   "execution_count": null,
   "id": "77406656",
   "metadata": {},
   "outputs": [],
   "source": [
    "### Try to apply another algoritm"
   ]
  },
  {
   "cell_type": "code",
   "execution_count": 71,
   "id": "5d9c65da",
   "metadata": {},
   "outputs": [
    {
     "data": {
      "text/plain": [
       "DecisionTreeRegressor()"
      ]
     },
     "execution_count": 71,
     "metadata": {},
     "output_type": "execute_result"
    }
   ],
   "source": [
    "from sklearn.tree import DecisionTreeRegressor\n",
    "dtc = DecisionTreeRegressor()\n",
    "dtc"
   ]
  },
  {
   "cell_type": "code",
   "execution_count": 72,
   "id": "b4e2a822",
   "metadata": {},
   "outputs": [
    {
     "data": {
      "text/plain": [
       "DecisionTreeRegressor()"
      ]
     },
     "execution_count": 72,
     "metadata": {},
     "output_type": "execute_result"
    }
   ],
   "source": [
    "dtc.fit(x_train,y_train)\n",
    "dtc"
   ]
  },
  {
   "cell_type": "code",
   "execution_count": 73,
   "id": "081ff3b2",
   "metadata": {},
   "outputs": [
    {
     "data": {
      "text/plain": [
       "array([0.52611403, 0.50544614, 0.52983171, ..., 0.53078373, 0.5328998 ,\n",
       "       0.54853759])"
      ]
     },
     "execution_count": 73,
     "metadata": {},
     "output_type": "execute_result"
    }
   ],
   "source": [
    "y_pred_dtc = lr.predict(x_test)\n",
    "y_pred_dtc"
   ]
  },
  {
   "cell_type": "code",
   "execution_count": 74,
   "id": "6984c20e",
   "metadata": {},
   "outputs": [
    {
     "data": {
      "text/plain": [
       "0.04339333837900183"
      ]
     },
     "execution_count": 74,
     "metadata": {},
     "output_type": "execute_result"
    }
   ],
   "source": [
    "from sklearn.metrics import r2_score\n",
    "accuracy = r2_score(y_test,y_pred_dtc)\n",
    "accuracy"
   ]
  },
  {
   "cell_type": "markdown",
   "id": "707e1db8",
   "metadata": {},
   "source": [
    "- we got same accuracy"
   ]
  }
 ],
 "metadata": {
  "kernelspec": {
   "display_name": "Python 3 (ipykernel)",
   "language": "python",
   "name": "python3"
  },
  "language_info": {
   "codemirror_mode": {
    "name": "ipython",
    "version": 3
   },
   "file_extension": ".py",
   "mimetype": "text/x-python",
   "name": "python",
   "nbconvert_exporter": "python",
   "pygments_lexer": "ipython3",
   "version": "3.9.13"
  }
 },
 "nbformat": 4,
 "nbformat_minor": 5
}
